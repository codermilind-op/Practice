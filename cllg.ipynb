{
 "cells": [
  {
   "cell_type": "code",
   "execution_count": 1,
   "id": "576213e3-147e-437c-9ac1-daa69e80a475",
   "metadata": {},
   "outputs": [
    {
     "name": "stdin",
     "output_type": "stream",
     "text": [
      " 456\n"
     ]
    },
    {
     "name": "stdout",
     "output_type": "stream",
     "text": [
      "even\n"
     ]
    }
   ],
   "source": [
    "# Q1\n",
    "n=int(input())\n",
    "if n%2==0:\n",
    "    print(\"even\")\n",
    "else:\n",
    "    print(\"odd\")"
   ]
  },
  {
   "cell_type": "code",
   "execution_count": 2,
   "id": "a608994f-f0dd-495e-82f1-fd38897c978e",
   "metadata": {},
   "outputs": [
    {
     "name": "stdin",
     "output_type": "stream",
     "text": [
      " 1990\n"
     ]
    },
    {
     "name": "stdout",
     "output_type": "stream",
     "text": [
      "is not a leap year\n"
     ]
    }
   ],
   "source": [
    "#Q2\n",
    "year=int(input())\n",
    "if ((year%4==0) and (year%100!=0))or(year%400 ==0):\n",
    "    print(\"is a leap year\")\n",
    "else:\n",
    "    print(\"is not a leap year\")"
   ]
  },
  {
   "cell_type": "code",
   "execution_count": 3,
   "id": "74f0e02e-56c7-45b4-bfb5-dcad9abf93eb",
   "metadata": {},
   "outputs": [
    {
     "name": "stdin",
     "output_type": "stream",
     "text": [
      " 12\n",
      " 23\n",
      " 24\n"
     ]
    },
    {
     "name": "stdout",
     "output_type": "stream",
     "text": [
      "num3\n"
     ]
    }
   ],
   "source": [
    "# Q3\n",
    "num1=int(input())\n",
    "num2=int(input())\n",
    "num3=int(input())\n",
    "if num1>=num2 and num1>=num3:\n",
    "    print(\"num1\")\n",
    "elif num2>=num1 and num2>=num3:\n",
    "    print(\"num2\")\n",
    "else:\n",
    "    print(\"num3\")"
   ]
  },
  {
   "cell_type": "code",
   "execution_count": 10,
   "id": "6602e3cd-88ad-4282-8829-f99e2fb8d950",
   "metadata": {},
   "outputs": [
    {
     "name": "stdin",
     "output_type": "stream",
     "text": [
      " 27\n"
     ]
    },
    {
     "name": "stdout",
     "output_type": "stream",
     "text": [
      "1\n",
      "3\n",
      "9\n",
      "27\n"
     ]
    }
   ],
   "source": [
    "# Q4\n",
    "n=int(input())\n",
    "for i in range(1,n+1):\n",
    "    if n%i==0:\n",
    "        print(i)\n"
   ]
  },
  {
   "cell_type": "code",
   "execution_count": 12,
   "id": "58048fc0-9ed6-44ec-bafc-fea4818aec74",
   "metadata": {},
   "outputs": [
    {
     "name": "stdin",
     "output_type": "stream",
     "text": [
      " 12\n",
      " 15\n"
     ]
    },
    {
     "name": "stdout",
     "output_type": "stream",
     "text": [
      "3\n"
     ]
    }
   ],
   "source": [
    "# Q5\n",
    "import math\n",
    "num1=int(input())\n",
    "num2=int(input())\n",
    "cal=math.gcd(num1,num2)\n",
    "print(cal)\n"
   ]
  },
  {
   "cell_type": "code",
   "execution_count": 18,
   "id": "9727efb2-5fe8-42e6-a90d-6bd2bfb892ad",
   "metadata": {},
   "outputs": [
    {
     "name": "stdin",
     "output_type": "stream",
     "text": [
      " 90\n",
      " 40\n",
      " 60\n"
     ]
    },
    {
     "name": "stdout",
     "output_type": "stream",
     "text": [
      "190\n",
      "63.33333333333333 %\n",
      "Grade B\n"
     ]
    }
   ],
   "source": [
    "# Q6\n",
    "sub1=int(input())\n",
    "sub2=int(input())\n",
    "sub3=int(input())\n",
    "sum = sub1+sub2+sub3\n",
    "perc=sum/300*100\n",
    "print(sum)\n",
    "print(perc,\"%\")\n",
    "if perc>=80:\n",
    "    print(\"Grade A\")\n",
    "elif perc>=60:\n",
    "    print(\"Grade B\")\n",
    "elif prec>=40:\n",
    "    print(\"Grade C\")\n",
    "else:\n",
    "    print(\"Grade D\")"
   ]
  },
  {
   "cell_type": "code",
   "execution_count": 19,
   "id": "59180e82-9919-4d89-a97c-cf7732320063",
   "metadata": {},
   "outputs": [
    {
     "name": "stdout",
     "output_type": "stream",
     "text": [
      "5.0 feet = 152.40 centimeters\n",
      "5.1 feet = 155.45 centimeters\n",
      "5.2 feet = 158.50 centimeters\n",
      "5.3 feet = 161.54 centimeters\n",
      "5.4 feet = 164.59 centimeters\n",
      "5.5 feet = 167.64 centimeters\n",
      "5.6 feet = 170.69 centimeters\n",
      "5.7 feet = 173.74 centimeters\n",
      "5.8 feet = 176.78 centimeters\n",
      "5.9 feet = 179.83 centimeters\n",
      "6.0 feet = 182.88 centimeters\n"
     ]
    }
   ],
   "source": [
    "#Q7\n",
    "for feet in range(50, 61, 1):  # Range from 5 to 6 feet in steps of 0.1 feet\n",
    "    f = feet / 10.0  # Convert to decimal feet\n",
    "    cm = f * 30.48  # Convert to centimeters\n",
    "    print(f\"{f:.1f} feet = {cm:.2f} centimeters\")\n"
   ]
  },
  {
   "cell_type": "code",
   "execution_count": 22,
   "id": "82e3d33f-ff8c-4087-b3d8-501eb165d38f",
   "metadata": {},
   "outputs": [
    {
     "name": "stdin",
     "output_type": "stream",
     "text": [
      " 10\n"
     ]
    },
    {
     "name": "stdout",
     "output_type": "stream",
     "text": [
      "55\n"
     ]
    }
   ],
   "source": [
    "#Q8\n",
    "n=int(input())\n",
    "sum=0\n",
    "for i in range(1,n+1):\n",
    "    sum=sum+i\n",
    "print(sum)    \n",
    "    \n",
    "    "
   ]
  },
  {
   "cell_type": "code",
   "execution_count": 23,
   "id": "5ec4aacd-be2a-4b4e-b827-602c2db20863",
   "metadata": {},
   "outputs": [
    {
     "name": "stdin",
     "output_type": "stream",
     "text": [
      " 5\n"
     ]
    },
    {
     "name": "stdout",
     "output_type": "stream",
     "text": [
      "*\n",
      "**\n",
      "***\n",
      "****\n",
      "*****\n"
     ]
    }
   ],
   "source": [
    "#Q9\n",
    "n=int(input())\n",
    "r=1\n",
    "while r<=n:\n",
    "    c=1\n",
    "    while c<=r:\n",
    "        print(\"*\",end=\"\")\n",
    "        c=c+1\n",
    "    r=r+1\n",
    "    print()\n",
    "    "
   ]
  },
  {
   "cell_type": "code",
   "execution_count": 4,
   "id": "0f4de872-b2a5-46cf-ac09-a411f325a8e7",
   "metadata": {},
   "outputs": [
    {
     "name": "stdout",
     "output_type": "stream",
     "text": [
      "Select any one from 1,2,3,4:\n",
      "1. Calculate the area of a rectangle\n",
      "2. Calculate the area of a square\n",
      "3. Calculate the area of a circle\n",
      "4. Calculate the area of a triangle\n"
     ]
    },
    {
     "name": "stdin",
     "output_type": "stream",
     "text": [
      " 4\n",
      " 70\n",
      " 60\n"
     ]
    },
    {
     "name": "stdout",
     "output_type": "stream",
     "text": [
      "Area of a triangle:2100.0\n"
     ]
    }
   ],
   "source": [
    "# Q10\n",
    "import math\n",
    "\n",
    "def ar_rect(length,breadth):\n",
    "    return length*breadth\n",
    "def ar_sq(side):\n",
    "    return side*side\n",
    "def ar_circle(radius):\n",
    "    return math.pi * (radius ** 2)\n",
    "def ar_tri(base,height):\n",
    "    return 0.5*base*height\n",
    "\n",
    "while True:\n",
    "    print(\"Select any one from 1,2,3,4:\")\n",
    "    print(\"1. Calculate the area of a rectangle\")\n",
    "    print(\"2. Calculate the area of a square\")\n",
    "    print(\"3. Calculate the area of a circle\")\n",
    "    print(\"4. Calculate the area of a triangle\")\n",
    "\n",
    "    choice = int(input())\n",
    "    \n",
    "    if choice==1:\n",
    "        length=float(input())\n",
    "        breadth=float(input())\n",
    "        area=ar_rect(length,breadth)\n",
    "        print(f\"Area of a rectangle:{area}\")\n",
    "    \n",
    "    elif choice==2:\n",
    "        side=float(input())\n",
    "        area=ar_sq(side)\n",
    "        print(f\"Area of a square:{area}\")\n",
    "    \n",
    "    elif choice==3:\n",
    "        radius=float(input())\n",
    "        area=ar_circle(radius)\n",
    "        print(f\"Area of a circle:{area}\")\n",
    "    \n",
    "    elif choice==4:\n",
    "        base=float(input())\n",
    "        height=float(input())\n",
    "        area=ar_tri(base,height)\n",
    "        print(f\"Area of a triangle:{area}\")\n",
    "        break\n",
    "\n",
    "    else:\n",
    "        print(\"Invalid choice. Please select a valid option.\")\n",
    "    \n",
    "    \n",
    "    \n",
    "    \n",
    "    \n"
   ]
  },
  {
   "cell_type": "code",
   "execution_count": 20,
   "id": "33b47385-2c05-4fd1-a515-efb9147a0cfa",
   "metadata": {},
   "outputs": [
    {
     "name": "stdin",
     "output_type": "stream",
     "text": [
      " 500\n"
     ]
    },
    {
     "name": "stdout",
     "output_type": "stream",
     "text": [
      "The sum of series: 2.718282\n"
     ]
    }
   ],
   "source": [
    "# Q11\n",
    "import math\n",
    "n=int(input())\n",
    "def fact(n):\n",
    "    sum=0\n",
    "    for i in range(n+1):\n",
    "        if i==0:\n",
    "            sum=sum+1\n",
    "        else:\n",
    "            term = 1/math.factorial(i)\n",
    "            sum=sum+term\n",
    "    return sum\n",
    "\n",
    "if n<0:\n",
    "    print(\"Enter positive value\")\n",
    "\n",
    "else:\n",
    "    result=fact(n)\n",
    "    print(f\"The sum of series: {result:.6f}\")\n"
   ]
  },
  {
   "cell_type": "code",
   "execution_count": 29,
   "id": "53072e5f-2f35-4e96-848f-21a62a84ad31",
   "metadata": {},
   "outputs": [
    {
     "name": "stdin",
     "output_type": "stream",
     "text": [
      " 100\n"
     ]
    },
    {
     "name": "stdout",
     "output_type": "stream",
     "text": [
      "93326215443944152681699238856266700490715968264381621468592963895217599993229915608941463976156518286253697920827223758251185210916864000000000000000000000000\n"
     ]
    }
   ],
   "source": [
    "# Q12\n",
    "n=int(input())\n",
    "fact=1\n",
    "for i in range(2,n+1):\n",
    "    fact*=i\n",
    "print(fact)\n",
    "    \n",
    "0"
   ]
  },
  {
   "cell_type": "code",
   "execution_count": 39,
   "id": "c734757a-fb7f-4598-8c8f-89e2ca1076b9",
   "metadata": {},
   "outputs": [
    {
     "name": "stdin",
     "output_type": "stream",
     "text": [
      " 7\n"
     ]
    },
    {
     "name": "stdout",
     "output_type": "stream",
     "text": [
      "0\n",
      "1\n",
      "1\n",
      "2\n",
      "3\n",
      "5\n",
      "8\n",
      "None\n"
     ]
    }
   ],
   "source": [
    "\n",
    "def checkMember(n):\n",
    "    if(n==0 or n==1 or n==2):\n",
    "        print(\"Enter value more than 2\")\n",
    "    else:\n",
    "        a=0\n",
    "        b=1\n",
    "        count = 0\n",
    "        while(count<n):\n",
    "            print(a)\n",
    "            c=a+b\n",
    "            a=b\n",
    "            b=c\n",
    "            count +=1\n",
    "\n",
    "n=int(input())\n",
    "print(checkMember(n))\n"
   ]
  },
  {
   "cell_type": "code",
   "execution_count": 40,
   "id": "df6faa12-990f-4421-82ef-0123d8e2e665",
   "metadata": {},
   "outputs": [
    {
     "name": "stdin",
     "output_type": "stream",
     "text": [
      " 7\n"
     ]
    },
    {
     "name": "stdout",
     "output_type": "stream",
     "text": [
      "0\n",
      "1\n",
      "1\n",
      "2\n",
      "3\n",
      "5\n",
      "8\n"
     ]
    }
   ],
   "source": [
    "# Q13\n",
    "a = 0\n",
    "b = 1\n",
    "count = 0\n",
    "n = int(input())\n",
    "\n",
    "while count < n:\n",
    "    print(a)\n",
    "    c = a + b\n",
    "    a = b\n",
    "    b = c\n",
    "    count += 1\n"
   ]
  },
  {
   "cell_type": "code",
   "execution_count": 42,
   "id": "cbee6239-56e6-4c0a-a0f8-fe44bc360bc8",
   "metadata": {},
   "outputs": [
    {
     "name": "stdin",
     "output_type": "stream",
     "text": [
      " 54345\n"
     ]
    },
    {
     "name": "stdout",
     "output_type": "stream",
     "text": [
      "true\n"
     ]
    }
   ],
   "source": [
    "n=int(input())\n",
    "temp=n\n",
    "rev=0\n",
    "while temp!=0:\n",
    "    rev=(rev*10) + (temp%10)\n",
    "    temp=temp//10\n",
    "\n",
    "if n==rev:\n",
    "    print('true')\n",
    "\n",
    "else:\n",
    "    print('false')"
   ]
  },
  {
   "cell_type": "code",
   "execution_count": 50,
   "id": "1eb80f3e-13f6-4370-9c2a-db6a3a176038",
   "metadata": {},
   "outputs": [
    {
     "name": "stdin",
     "output_type": "stream",
     "text": [
      " milind\n"
     ]
    },
    {
     "name": "stdout",
     "output_type": "stream",
     "text": [
      "['m', 'i', 'l', 'i', 'n', 'd']\n"
     ]
    }
   ],
   "source": [
    "# Q15\n",
    "def string(lis):\n",
    "    char_list=[char for char in lis]\n",
    "    return char_list\n",
    "\n",
    "lis=input()\n",
    "result = string(lis)\n",
    "print(result)"
   ]
  },
  {
   "cell_type": "code",
   "execution_count": null,
   "id": "d64ea495-cdfd-4abb-99ed-fc12eb91d7a5",
   "metadata": {},
   "outputs": [],
   "source": []
  }
 ],
 "metadata": {
  "kernelspec": {
   "display_name": "Python 3 (ipykernel)",
   "language": "python",
   "name": "python3"
  },
  "language_info": {
   "codemirror_mode": {
    "name": "ipython",
    "version": 3
   },
   "file_extension": ".py",
   "mimetype": "text/x-python",
   "name": "python",
   "nbconvert_exporter": "python",
   "pygments_lexer": "ipython3",
   "version": "3.10.2"
  }
 },
 "nbformat": 4,
 "nbformat_minor": 5
}
